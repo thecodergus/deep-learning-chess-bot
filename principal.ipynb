{
 "cells": [
  {
   "cell_type": "code",
   "execution_count": 73,
   "metadata": {},
   "outputs": [],
   "source": [
    "import chess, glob, tqdm, numpy as np\n",
    "import chess.pgn\n",
    "from dataclasses import dataclass"
   ]
  },
  {
   "cell_type": "code",
   "execution_count": 75,
   "metadata": {},
   "outputs": [],
   "source": [
    "@dataclass\n",
    "class Jogada:\n",
    "    estado_tabuleiro: np.ndarray\n",
    "    origem_jogada: np.ndarray\n",
    "    destino_jogada: np.ndarray\n",
    "    peca: np.ndarray\n",
    "    brancas: int"
   ]
  },
  {
   "cell_type": "code",
   "execution_count": 2,
   "metadata": {},
   "outputs": [],
   "source": [
    "lista_arquivos_pgn = glob.glob(\"./download/*.pgn\")"
   ]
  },
  {
   "cell_type": "code",
   "execution_count": 3,
   "metadata": {},
   "outputs": [],
   "source": [
    "def import_pgn_file(file_path: str) -> chess.pgn.Game:\n",
    "    with open(file_path) as pgn_file:\n",
    "        game = chess.pgn.read_game(pgn_file)\n",
    "        return game"
   ]
  },
  {
   "cell_type": "code",
   "execution_count": 40,
   "metadata": {},
   "outputs": [],
   "source": [
    "def obter_estado_tabuleiro_do_jogo(\n",
    "    jogo: chess.pgn.Game,\n",
    ") -> tuple[list[list[int]], dict[int, str]]:\n",
    "    # Inicializa o tabuleiro\n",
    "    tabuleiro = jogo.board()\n",
    "\n",
    "    # Cria uma matriz para representar o tabuleiro\n",
    "    estado_tabuleiro = [[0] * 8 for _ in range(8)]\n",
    "    dicionario = {}\n",
    "\n",
    "    # Preenche a matriz com os valores das peças\n",
    "    for rank in range(8):\n",
    "        for arquivo in range(8):\n",
    "            square = chess.square(arquivo, rank)\n",
    "            piece = tabuleiro.piece_at(square)\n",
    "            if piece is not None:\n",
    "                if piece.color == chess.WHITE:\n",
    "                    estado_tabuleiro[rank][arquivo] = piece.piece_type\n",
    "                    if piece.piece_type not in dicionario.keys():\n",
    "                        dicionario[\n",
    "                            piece.piece_type\n",
    "                        ] = f\"W_{piece.symbol()}_{piece.unicode_symbol()}\"\n",
    "                else:\n",
    "                    estado_tabuleiro[rank][arquivo] = piece.piece_type + 6\n",
    "                    if piece.piece_type + 6 not in dicionario.keys():\n",
    "                        dicionario[\n",
    "                            piece.piece_type + 6\n",
    "                        ] = f\"B_{piece.symbol()}_{piece.unicode_symbol()}\"\n",
    "\n",
    "    return estado_tabuleiro, dicionario"
   ]
  },
  {
   "cell_type": "code",
   "execution_count": 54,
   "metadata": {},
   "outputs": [],
   "source": [
    "def obter_estado_tabuleiro_do_board(\n",
    "    tabuleiro: chess.Board,\n",
    ") -> list[list[int]]:\n",
    "    # Cria uma matriz para representar o tabuleiro\n",
    "    estado_tabuleiro = [[0] * 8 for _ in range(8)]\n",
    "    dicionario = {}\n",
    "\n",
    "    # Preenche a matriz com os valores das peças\n",
    "    for rank in range(8):\n",
    "        for arquivo in range(8):\n",
    "            square = chess.square(arquivo, rank)\n",
    "            piece = tabuleiro.piece_at(square)\n",
    "            if piece is not None:\n",
    "                if piece.color == chess.WHITE:\n",
    "                    estado_tabuleiro[rank][arquivo] = piece.piece_type\n",
    "                    if piece.piece_type not in dicionario.keys():\n",
    "                        dicionario[\n",
    "                            piece.piece_type\n",
    "                        ] = f\"W_{piece.symbol()}_{piece.unicode_symbol()}\"\n",
    "                else:\n",
    "                    estado_tabuleiro[rank][arquivo] = piece.piece_type + 6\n",
    "                    if piece.piece_type + 6 not in dicionario.keys():\n",
    "                        dicionario[\n",
    "                            piece.piece_type + 6\n",
    "                        ] = f\"B_{piece.symbol()}_{piece.unicode_symbol()}\"\n",
    "\n",
    "    return estado_tabuleiro"
   ]
  },
  {
   "cell_type": "code",
   "execution_count": 41,
   "metadata": {},
   "outputs": [],
   "source": [
    "def extrair_movimentos_do_jogo(jogo) -> list[str]:\n",
    "    movimentos = []\n",
    "    tabuleiro = jogo.board()\n",
    "\n",
    "    for move in jogo.mainline_moves():\n",
    "        movimentos.append(\n",
    "            move.uci()\n",
    "        )  # UCI é uma notação padrão para representação de movimentos\n",
    "\n",
    "    return movimentos"
   ]
  },
  {
   "cell_type": "code",
   "execution_count": 66,
   "metadata": {},
   "outputs": [],
   "source": [
    "def obter_info_movimento_com_estado(\n",
    "    move: chess.Move, estado_tabuleiro: list[list[int]]\n",
    ") -> tuple[list[list[int]], list[list[int]], list[int]]:\n",
    "    # Obtém as coordenadas da origem e destino do movimento\n",
    "    origem = [\n",
    "        [\n",
    "            1\n",
    "            if i == chess.square_rank(move.from_square)\n",
    "            and j == chess.square_file(move.from_square)\n",
    "            else 0\n",
    "            for j in range(8)\n",
    "        ]\n",
    "        for i in range(8)\n",
    "    ]\n",
    "    destino = [\n",
    "        [\n",
    "            1\n",
    "            if i == chess.square_rank(move.to_square)\n",
    "            and j == chess.square_file(move.to_square)\n",
    "            else 0\n",
    "            for j in range(8)\n",
    "        ]\n",
    "        for i in range(8)\n",
    "    ]\n",
    "\n",
    "    # Calcula a enumeração da peça\n",
    "    peca_enum = (\n",
    "        estado_tabuleiro[chess.square_rank(move.from_square)][\n",
    "            chess.square_file(move.from_square)\n",
    "        ]\n",
    "        if estado_tabuleiro[chess.square_rank(move.from_square)][\n",
    "            chess.square_file(move.from_square)\n",
    "        ]\n",
    "        != 0\n",
    "        else None\n",
    "    )\n",
    "\n",
    "    # Cria o vetor de 12 posições com 1 na posição da peça escolhida\n",
    "    vetor_peca = [1 if i + 1 == peca_enum else 0 for i in range(12)]\n",
    "\n",
    "    return origem, destino, vetor_peca"
   ]
  },
  {
   "cell_type": "code",
   "execution_count": 42,
   "metadata": {},
   "outputs": [],
   "source": [
    "arquivo_pgn = import_pgn_file(lista_arquivos_pgn[0])"
   ]
  },
  {
   "cell_type": "code",
   "execution_count": 43,
   "metadata": {},
   "outputs": [
    {
     "data": {
      "text/plain": [
       "<Mainline at 0x7f11cf182a10 (1. e4 c5 2. Nc3 Nc6 3. g3 g6 4. Bg2 Bg7 5. d3 e6 6. Be3 d6 7. Qd2 Rb8 8. Nge2 Nd4 9. O-O Ne7 10. Nc1 O-O 11. Nd1 b5 12. c3 Ndc6 13. Bh6 b4 14. Bxg7 Kxg7 15. Ne2 d5 16. Qc2 Qa5 17. Ne3 Rd8 18. f4 Qb6 19. Rfb1 Ba6 20. exd5 Nxd5 21. Nxd5 exd5 22. Kh1 Ne7 23. Ng1 Nf5 24. Nf3 Ne3 25. Qd2 d4 26. cxd4 cxd4 27. Re1 Bb7 28. Nh4 Nxg2 29. Nxg2 Re8 30. Kg1 Qc6 31. h3 Rxe1+ 32. Rxe1 Rc8 33. Kh2 a5 34. Nh4 Qc2 35. Re2 Qb1 36. Ng2 Rc1 37. g4 Rh1+ 38. Kg3 Qg1 39. Re4 Qh2+ 40. Kf2 Rg1)>"
      ]
     },
     "execution_count": 43,
     "metadata": {},
     "output_type": "execute_result"
    }
   ],
   "source": [
    "arquivo_pgn.mainline()"
   ]
  },
  {
   "cell_type": "code",
   "execution_count": 46,
   "metadata": {},
   "outputs": [],
   "source": [
    "tabuleiro_atual, dicionario = obter_estado_tabuleiro_do_jogo(arquivo_pgn)"
   ]
  },
  {
   "cell_type": "code",
   "execution_count": 47,
   "metadata": {},
   "outputs": [
    {
     "data": {
      "text/plain": [
       "[[4, 2, 3, 5, 6, 3, 2, 4],\n",
       " [1, 1, 1, 1, 1, 1, 1, 1],\n",
       " [0, 0, 0, 0, 0, 0, 0, 0],\n",
       " [0, 0, 0, 0, 0, 0, 0, 0],\n",
       " [0, 0, 0, 0, 0, 0, 0, 0],\n",
       " [0, 0, 0, 0, 0, 0, 0, 0],\n",
       " [7, 7, 7, 7, 7, 7, 7, 7],\n",
       " [10, 8, 9, 11, 12, 9, 8, 10]]"
      ]
     },
     "execution_count": 47,
     "metadata": {},
     "output_type": "execute_result"
    }
   ],
   "source": [
    "tabuleiro_atual"
   ]
  },
  {
   "cell_type": "code",
   "execution_count": 48,
   "metadata": {},
   "outputs": [
    {
     "data": {
      "text/plain": [
       "{4: 'W_R_♖',\n",
       " 2: 'W_N_♘',\n",
       " 3: 'W_B_♗',\n",
       " 5: 'W_Q_♕',\n",
       " 6: 'W_K_♔',\n",
       " 1: 'W_P_♙',\n",
       " 7: 'B_p_♟',\n",
       " 10: 'B_r_♜',\n",
       " 8: 'B_n_♞',\n",
       " 9: 'B_b_♝',\n",
       " 11: 'B_q_♛',\n",
       " 12: 'B_k_♚'}"
      ]
     },
     "execution_count": 48,
     "metadata": {},
     "output_type": "execute_result"
    }
   ],
   "source": [
    "dicionario"
   ]
  },
  {
   "cell_type": "code",
   "execution_count": 93,
   "metadata": {},
   "outputs": [],
   "source": [
    "# Listando as jogadas\n",
    "lista_jogadas: list[Jogada] = []\n",
    "\n",
    "for arquivo in lista_arquivos_pgn:\n",
    "    arquivo_pgn = import_pgn_file(arquivo)\n",
    "    tabuleiro = arquivo_pgn.board()\n",
    "\n",
    "    for movimento in arquivo_pgn.mainline_moves():\n",
    "        # Estraindo o estado atual do tabuleiro\n",
    "        tab = obter_estado_tabuleiro_do_board(tabuleiro)\n",
    "\n",
    "        tabuleiro.push(movimento)\n",
    "        origem, destino, peca = obter_info_movimento_com_estado(movimento, tab)\n",
    "        \n",
    "        # Comprimindo e normalizando o estado do tabuleiro\n",
    "        tab = np.ravel(np.array(tab, dtype=np.float16))\n",
    "        tab = tab / 12.0\n",
    "\n",
    "        lista_jogadas.append(\n",
    "            Jogada(\n",
    "                estado_tabuleiro=tab,\n",
    "                peca=np.ndarray(peca, dtype=np.float16),\n",
    "                origem_jogada=np.ravel(np.array(origem, dtype=np.float16)),\n",
    "                destino_jogada=np.ravel(np.array(destino, dtype=np.float16)),\n",
    "                brancas=int(tabuleiro.turn == chess.WHITE),\n",
    "            )\n",
    "        )"
   ]
  },
  {
   "cell_type": "code",
   "execution_count": 91,
   "metadata": {},
   "outputs": [
    {
     "data": {
      "text/plain": [
       "0"
      ]
     },
     "execution_count": 91,
     "metadata": {},
     "output_type": "execute_result"
    }
   ],
   "source": [
    "len(lista_jogadas)"
   ]
  },
  {
   "cell_type": "code",
   "execution_count": null,
   "metadata": {},
   "outputs": [],
   "source": []
  }
 ],
 "metadata": {
  "kernelspec": {
   "display_name": "Python 3",
   "language": "python",
   "name": "python3"
  },
  "language_info": {
   "codemirror_mode": {
    "name": "ipython",
    "version": 3
   },
   "file_extension": ".py",
   "mimetype": "text/x-python",
   "name": "python",
   "nbconvert_exporter": "python",
   "pygments_lexer": "ipython3",
   "version": "3.10.12"
  }
 },
 "nbformat": 4,
 "nbformat_minor": 2
}
