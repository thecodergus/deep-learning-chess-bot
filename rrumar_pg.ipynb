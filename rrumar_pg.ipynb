{
 "cells": [
  {
   "cell_type": "code",
   "execution_count": 1,
   "metadata": {},
   "outputs": [],
   "source": [
    "import psycopg2\n",
    "import sqlite3"
   ]
  },
  {
   "cell_type": "code",
   "execution_count": 3,
   "metadata": {},
   "outputs": [],
   "source": [
    "# Configurações do PostgreSQL\n",
    "postgres_params = {\n",
    "    \"dbname\": \"xadrez\",\n",
    "    \"user\": \"admin\",\n",
    "    \"password\": \"admin\",\n",
    "    \"host\": \"0.0.0.0\",\n",
    "    \"port\": \"5051\",\n",
    "}"
   ]
  },
  {
   "cell_type": "code",
   "execution_count": 7,
   "metadata": {},
   "outputs": [],
   "source": [
    "# Configurações do SQLite\n",
    "sqlite_file = \"seu_novo_banco.db\"\n",
    "\n",
    "# Conectar ao PostgreSQL\n",
    "with psycopg2.connect(**postgres_params) as pg_conn:\n",
    "    with pg_conn.cursor() as pg_cursor:\n",
    "        # Execute a consulta no PostgreSQL\n",
    "        pg_cursor.execute(\"SELECT * FROM estados_xadrez\")\n",
    "\n",
    "        # Obtenha os resultados\n",
    "        rows = pg_cursor.fetchall()\n",
    "\n",
    "        # Conectar ao SQLite\n",
    "        with sqlite3.connect(sqlite_file) as sqlite_conn:\n",
    "            # Crie um cursor para o SQLite\n",
    "            sqlite_cursor = sqlite_conn.cursor()\n",
    "            sqlite_cursor.execute(\n",
    "                \"\"\"\n",
    "                    CREATE TABLE evaluations (\n",
    "                        id TEXT PRIMARY KEY DEFAULT (lower(hex(randomblob(4))) || '-' || lower(hex(randomblob(2))) || '-4' || substr('AB89',abs(random()) % 4 + 1,1) || '-a' || substr('89AB',abs(random()) % 4 + 1,1) || '-8' || lower(hex(randomblob(3)))),\n",
    "\n",
    "                        fen TEXT,\n",
    "                        bin BLOB,\n",
    "                        eval REAL\n",
    "                    );\n",
    "\n",
    "                               \n",
    "                                  \"\"\"\n",
    "            )\n",
    "\n",
    "            # Inserir os dados no SQLite\n",
    "            for row in rows:\n",
    "                # Ajuste conforme necessário dependendo da estrutura da sua tabela\n",
    "                sqlite_cursor.execute(\n",
    "                    \"INSERT INTO evaluations VALUES (?, ?, ?, ?)\", row\n",
    "                )\n",
    "\n",
    "            # Commit para salvar as alterações no SQLite\n",
    "            sqlite_conn.commit()"
   ]
  },
  {
   "cell_type": "code",
   "execution_count": null,
   "metadata": {},
   "outputs": [],
   "source": []
  }
 ],
 "metadata": {
  "kernelspec": {
   "display_name": "Python 3",
   "language": "python",
   "name": "python3"
  },
  "language_info": {
   "codemirror_mode": {
    "name": "ipython",
    "version": 3
   },
   "file_extension": ".py",
   "mimetype": "text/x-python",
   "name": "python",
   "nbconvert_exporter": "python",
   "pygments_lexer": "ipython3",
   "version": "3.10.12"
  }
 },
 "nbformat": 4,
 "nbformat_minor": 2
}
