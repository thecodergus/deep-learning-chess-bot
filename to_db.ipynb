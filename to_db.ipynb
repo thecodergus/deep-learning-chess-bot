{
 "cells": [
  {
   "cell_type": "code",
   "execution_count": 1,
   "metadata": {},
   "outputs": [],
   "source": [
    "import chess, glob, tqdm\n",
    "import chess.pgn\n",
    "from dataclasses import dataclass\n",
    "import psycopg2\n",
    "import chess.engine\n",
    "\n",
    "conn = psycopg2.connect(\n",
    "    database=\"xadrez\",\n",
    "    host=\"0.0.0.0\",\n",
    "    user=\"admin\",\n",
    "    password=\"admin\",\n",
    "    port=\"5051\",\n",
    ")\n",
    "\n",
    "engine = chess.engine.SimpleEngine.popen_uci(\"stockfish/stockfish-ubuntu-x86-64\")"
   ]
  },
  {
   "cell_type": "code",
   "execution_count": 2,
   "metadata": {},
   "outputs": [],
   "source": [
    "# Função para avaliar uma posição usando Stockfish\n",
    "def evaluate_position(fen, turn):\n",
    "    info = engine.analyse(chess.Board(fen), chess.engine.Limit(time=0.1))\n",
    "    \n",
    "    score = info[\"score\"].relative.score()\n",
    "    \n",
    "    if not turn:\n",
    "        score = -score\n",
    "        \n",
    "    return score\n",
    "\n",
    "\n",
    "def analyze_game(game):\n",
    "    board = chess.Board()\n",
    "    rows = []\n",
    "\n",
    "    for move in game.mainline_moves():\n",
    "        board.push(move)\n",
    "        fen = board.fen()\n",
    "        binary = board.board_fen()\n",
    "\n",
    "        try:\n",
    "            evaluation = evaluate_position(\n",
    "                fen, board.turn\n",
    "            )  # Você pode adicionar a lógica para avaliação aqui\n",
    "            row = (fen, binary, float(evaluation))\n",
    "        except:\n",
    "            continue\n",
    "        rows.append(row)\n",
    "\n",
    "    return rows\n",
    "\n",
    "\n",
    "def process_pgn(file_path):\n",
    "    with open(file_path) as file:\n",
    "        game = chess.pgn.read_game(file)\n",
    "        rows = analyze_game(game)\n",
    "\n",
    "        cursor = conn.cursor()\n",
    "        for i, row in enumerate(rows, start=1):\n",
    "            # print(f\"{i}|{row}\")\n",
    "            try:\n",
    "                pass\n",
    "                cursor.execute(\n",
    "                    \"INSERT INTO estados_xadrez (fen, bin, eval) VALUES ('{}', '{}', {})\".format(\n",
    "                        row[0], row[1], row[2]\n",
    "                    )\n",
    "                )\n",
    "                conn.commit()  # Certifique-se de commitar a transação se for bem-sucedida\n",
    "            except Exception as e:\n",
    "                conn.rollback()  # Faça o rollback da transação em caso de falha\n",
    "                print(f\"Erro durante a execução do SQL: {e}\")"
   ]
  },
  {
   "cell_type": "code",
   "execution_count": 3,
   "metadata": {},
   "outputs": [
    {
     "name": "stderr",
     "output_type": "stream",
     "text": [
      "100%|██████████| 247/247 [32:56<00:00,  8.00s/it]\n"
     ]
    }
   ],
   "source": [
    "arquivos_pgn = glob.glob(\"download/*.pgn\")\n",
    "for i in tqdm.tqdm(arquivos_pgn):\n",
    "    process_pgn(i)"
   ]
  },
  {
   "cell_type": "code",
   "execution_count": null,
   "metadata": {},
   "outputs": [],
   "source": []
  }
 ],
 "metadata": {
  "kernelspec": {
   "display_name": "Python 3",
   "language": "python",
   "name": "python3"
  },
  "language_info": {
   "codemirror_mode": {
    "name": "ipython",
    "version": 3
   },
   "file_extension": ".py",
   "mimetype": "text/x-python",
   "name": "python",
   "nbconvert_exporter": "python",
   "pygments_lexer": "ipython3",
   "version": "3.10.12"
  }
 },
 "nbformat": 4,
 "nbformat_minor": 2
}
