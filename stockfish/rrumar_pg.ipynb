{
 "cells": [
  {
   "cell_type": "code",
   "execution_count": 1,
   "metadata": {},
   "outputs": [],
   "source": [
    "import psycopg2\n",
    "import sqlite3"
   ]
  },
  {
   "cell_type": "code",
   "execution_count": 2,
   "metadata": {},
   "outputs": [],
   "source": [
    "# Configurações do PostgreSQL\n",
    "postgres_params = {\n",
    "    \"dbname\": \"seu_banco\",\n",
    "    \"user\": \"seu_usuario\",\n",
    "    \"password\": \"sua_senha\",\n",
    "    \"host\": \"seu_host\",\n",
    "    \"port\": \"sua_porta\",\n",
    "}"
   ]
  },
  {
   "cell_type": "code",
   "execution_count": null,
   "metadata": {},
   "outputs": [],
   "source": [
    "# Configurações do SQLite\n",
    "sqlite_file = \"seu_novo_banco.db\"\n",
    "\n",
    "# Conectar ao PostgreSQL\n",
    "with psycopg2.connect(**postgres_params) as pg_conn:\n",
    "    with pg_conn.cursor() as pg_cursor:\n",
    "        # Execute a consulta no PostgreSQL\n",
    "        pg_cursor.execute(\"SELECT * FROM sua_tabela\")\n",
    "\n",
    "        # Obtenha os resultados\n",
    "        rows = pg_cursor.fetchall()\n",
    "\n",
    "        # Conectar ao SQLite\n",
    "        with sqlite3.connect(sqlite_file) as sqlite_conn:\n",
    "            # Crie um cursor para o SQLite\n",
    "            sqlite_cursor = sqlite_conn.cursor()\n",
    "\n",
    "            # Inserir os dados no SQLite\n",
    "            for row in rows:\n",
    "                # Ajuste conforme necessário dependendo da estrutura da sua tabela\n",
    "                sqlite_cursor.execute(\"INSERT INTO sua_tabela VALUES (?, ?, ...)\", row)\n",
    "\n",
    "            # Commit para salvar as alterações no SQLite\n",
    "            sqlite_conn.commit()"
   ]
  }
 ],
 "metadata": {
  "kernelspec": {
   "display_name": "Python 3",
   "language": "python",
   "name": "python3"
  },
  "language_info": {
   "codemirror_mode": {
    "name": "ipython",
    "version": 3
   },
   "file_extension": ".py",
   "mimetype": "text/x-python",
   "name": "python",
   "nbconvert_exporter": "python",
   "pygments_lexer": "ipython3",
   "version": "3.10.12"
  }
 },
 "nbformat": 4,
 "nbformat_minor": 2
}
