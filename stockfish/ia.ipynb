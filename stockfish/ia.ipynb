{
 "cells": [
  {
   "cell_type": "code",
   "execution_count": 3,
   "metadata": {},
   "outputs": [],
   "source": [
    "from peewee import *\n",
    "import base64\n",
    "import os\n",
    "import torch\n",
    "import numpy as np\n",
    "from torch import nn\n",
    "import torch.nn.functional as F\n",
    "from torch.utils.data import Dataset, DataLoader, IterableDataset, random_split\n",
    "import pytorch_lightning as pl\n",
    "from random import randrange\n",
    "import psycopg2"
   ]
  },
  {
   "cell_type": "code",
   "execution_count": 12,
   "metadata": {},
   "outputs": [],
   "source": [
    "conn = psycopg2.connect(\n",
    "    database=\"xadrez\",\n",
    "    host=\"0.0.0.0\",\n",
    "    user=\"admin\",\n",
    "    password=\"admin\",\n",
    "    port=\"5051\",\n",
    ")"
   ]
  },
  {
   "cell_type": "code",
   "execution_count": 13,
   "metadata": {},
   "outputs": [
    {
     "ename": "AttributeError",
     "evalue": "'psycopg2.extensions.connection' object has no attribute 'get_binary_type'",
     "output_type": "error",
     "traceback": [
      "\u001b[0;31m---------------------------------------------------------------------------\u001b[0m",
      "\u001b[0;31mAttributeError\u001b[0m                            Traceback (most recent call last)",
      "Cell \u001b[0;32mIn[13], line 1\u001b[0m\n\u001b[0;32m----> 1\u001b[0m \u001b[38;5;28;01mclass\u001b[39;00m \u001b[38;5;21;01mEvaluations\u001b[39;00m(Model):\n\u001b[1;32m      2\u001b[0m     \u001b[38;5;28mid\u001b[39m \u001b[38;5;241m=\u001b[39m TextField()\n\u001b[1;32m      3\u001b[0m     fen \u001b[38;5;241m=\u001b[39m TextField()\n",
      "File \u001b[0;32m~/.local/lib/python3.10/site-packages/peewee.py:6454\u001b[0m, in \u001b[0;36mModelBase.__new__\u001b[0;34m(cls, name, bases, attrs, **kwargs)\u001b[0m\n\u001b[1;32m   6451\u001b[0m     \u001b[38;5;28mcls\u001b[39m\u001b[38;5;241m.\u001b[39m_meta\u001b[38;5;241m.\u001b[39mset_primary_key(pk_name, pk)\n\u001b[1;32m   6453\u001b[0m \u001b[38;5;28;01mfor\u001b[39;00m name, field \u001b[38;5;129;01min\u001b[39;00m fields:\n\u001b[0;32m-> 6454\u001b[0m     \u001b[38;5;28;43mcls\u001b[39;49m\u001b[38;5;241;43m.\u001b[39;49m\u001b[43m_meta\u001b[49m\u001b[38;5;241;43m.\u001b[39;49m\u001b[43madd_field\u001b[49m\u001b[43m(\u001b[49m\u001b[43mname\u001b[49m\u001b[43m,\u001b[49m\u001b[43m \u001b[49m\u001b[43mfield\u001b[49m\u001b[43m)\u001b[49m\n\u001b[1;32m   6456\u001b[0m \u001b[38;5;66;03m# Create a repr and error class before finalizing.\u001b[39;00m\n\u001b[1;32m   6457\u001b[0m \u001b[38;5;28;01mif\u001b[39;00m \u001b[38;5;28mhasattr\u001b[39m(\u001b[38;5;28mcls\u001b[39m, \u001b[38;5;124m'\u001b[39m\u001b[38;5;124m__str__\u001b[39m\u001b[38;5;124m'\u001b[39m) \u001b[38;5;129;01mand\u001b[39;00m \u001b[38;5;124m'\u001b[39m\u001b[38;5;124m__repr__\u001b[39m\u001b[38;5;124m'\u001b[39m \u001b[38;5;129;01mnot\u001b[39;00m \u001b[38;5;129;01min\u001b[39;00m attrs:\n",
      "File \u001b[0;32m~/.local/lib/python3.10/site-packages/peewee.py:6237\u001b[0m, in \u001b[0;36mMetadata.add_field\u001b[0;34m(self, field_name, field, set_attribute)\u001b[0m\n\u001b[1;32m   6235\u001b[0m \u001b[38;5;28;01mif\u001b[39;00m \u001b[38;5;129;01mnot\u001b[39;00m \u001b[38;5;28misinstance\u001b[39m(field, MetaField):\n\u001b[1;32m   6236\u001b[0m     \u001b[38;5;28;01mdel\u001b[39;00m \u001b[38;5;28mself\u001b[39m\u001b[38;5;241m.\u001b[39mtable\n\u001b[0;32m-> 6237\u001b[0m     \u001b[43mfield\u001b[49m\u001b[38;5;241;43m.\u001b[39;49m\u001b[43mbind\u001b[49m\u001b[43m(\u001b[49m\u001b[38;5;28;43mself\u001b[39;49m\u001b[38;5;241;43m.\u001b[39;49m\u001b[43mmodel\u001b[49m\u001b[43m,\u001b[49m\u001b[43m \u001b[49m\u001b[43mfield_name\u001b[49m\u001b[43m,\u001b[49m\u001b[43m \u001b[49m\u001b[43mset_attribute\u001b[49m\u001b[43m)\u001b[49m\n\u001b[1;32m   6238\u001b[0m     \u001b[38;5;28mself\u001b[39m\u001b[38;5;241m.\u001b[39mfields[field\u001b[38;5;241m.\u001b[39mname] \u001b[38;5;241m=\u001b[39m field\n\u001b[1;32m   6239\u001b[0m     \u001b[38;5;28mself\u001b[39m\u001b[38;5;241m.\u001b[39mcolumns[field\u001b[38;5;241m.\u001b[39mcolumn_name] \u001b[38;5;241m=\u001b[39m field\n",
      "File \u001b[0;32m~/.local/lib/python3.10/site-packages/peewee.py:4975\u001b[0m, in \u001b[0;36mBlobField.bind\u001b[0;34m(self, model, name, set_attribute)\u001b[0m\n\u001b[1;32m   4973\u001b[0m         model\u001b[38;5;241m.\u001b[39m_meta\u001b[38;5;241m.\u001b[39mdatabase\u001b[38;5;241m.\u001b[39mattach_callback(\u001b[38;5;28mself\u001b[39m\u001b[38;5;241m.\u001b[39m_db_hook)\n\u001b[1;32m   4974\u001b[0m     \u001b[38;5;28;01melse\u001b[39;00m:\n\u001b[0;32m-> 4975\u001b[0m         \u001b[38;5;28;43mself\u001b[39;49m\u001b[38;5;241;43m.\u001b[39;49m\u001b[43m_db_hook\u001b[49m\u001b[43m(\u001b[49m\u001b[43mmodel\u001b[49m\u001b[38;5;241;43m.\u001b[39;49m\u001b[43m_meta\u001b[49m\u001b[38;5;241;43m.\u001b[39;49m\u001b[43mdatabase\u001b[49m\u001b[43m)\u001b[49m\n\u001b[1;32m   4977\u001b[0m \u001b[38;5;66;03m# Attach a hook to the model metadata; in the event the database is\u001b[39;00m\n\u001b[1;32m   4978\u001b[0m \u001b[38;5;66;03m# changed or set at run-time, we will be sure to apply our callback and\u001b[39;00m\n\u001b[1;32m   4979\u001b[0m \u001b[38;5;66;03m# use the proper data-type for our database driver.\u001b[39;00m\n\u001b[1;32m   4980\u001b[0m model\u001b[38;5;241m.\u001b[39m_meta\u001b[38;5;241m.\u001b[39m_db_hooks\u001b[38;5;241m.\u001b[39mappend(\u001b[38;5;28mself\u001b[39m\u001b[38;5;241m.\u001b[39m_db_hook)\n",
      "File \u001b[0;32m~/.local/lib/python3.10/site-packages/peewee.py:4967\u001b[0m, in \u001b[0;36mBlobField._db_hook\u001b[0;34m(self, database)\u001b[0m\n\u001b[1;32m   4965\u001b[0m     \u001b[38;5;28mself\u001b[39m\u001b[38;5;241m.\u001b[39m_constructor \u001b[38;5;241m=\u001b[39m \u001b[38;5;28mbytearray\u001b[39m\n\u001b[1;32m   4966\u001b[0m \u001b[38;5;28;01melse\u001b[39;00m:\n\u001b[0;32m-> 4967\u001b[0m     \u001b[38;5;28mself\u001b[39m\u001b[38;5;241m.\u001b[39m_constructor \u001b[38;5;241m=\u001b[39m \u001b[43mdatabase\u001b[49m\u001b[38;5;241;43m.\u001b[39;49m\u001b[43mget_binary_type\u001b[49m()\n",
      "\u001b[0;31mAttributeError\u001b[0m: 'psycopg2.extensions.connection' object has no attribute 'get_binary_type'"
     ]
    }
   ],
   "source": [
    "class Evaluations(Model):\n",
    "    id = TextField()\n",
    "    fen = TextField()\n",
    "    binary = BlobField()\n",
    "    eval = FloatField()\n",
    "\n",
    "    class Meta:\n",
    "        database = conn\n",
    "\n",
    "    def binary_base64(self):\n",
    "        return base64.b64encode(self.binary)"
   ]
  },
  {
   "cell_type": "code",
   "execution_count": null,
   "metadata": {},
   "outputs": [],
   "source": [
    "class EvaluationDataset(IterableDataset):\n",
    "    def __init__(self, count):\n",
    "        self.count = count\n",
    "\n",
    "    def __iter__(self):\n",
    "        return self\n",
    "\n",
    "    def __next__(self):\n",
    "        idx = randrange(self.count)\n",
    "        return self[idx]\n",
    "\n",
    "    def __len__(self):\n",
    "        return self.count\n",
    "\n",
    "    def __getitem__(self, idx):\n",
    "        eval = Evaluations.get(Evaluations.id == idx + 1)\n",
    "        bin = np.frombuffer(eval.binary, dtype=np.uint8)\n",
    "        bin = np.unpackbits(bin, axis=0).astype(np.single)\n",
    "        eval.eval = max(eval.eval, -15)\n",
    "        eval.eval = min(eval.eval, 15)\n",
    "        ev = np.array([eval.eval]).astype(np.single)\n",
    "        return {\"binary\": bin, \"eval\": ev}\n",
    "\n",
    "\n",
    "dataset = EvaluationDataset(count=LABEL_COUNT)"
   ]
  }
 ],
 "metadata": {
  "kernelspec": {
   "display_name": "Python 3",
   "language": "python",
   "name": "python3"
  },
  "language_info": {
   "codemirror_mode": {
    "name": "ipython",
    "version": 3
   },
   "file_extension": ".py",
   "mimetype": "text/x-python",
   "name": "python",
   "nbconvert_exporter": "python",
   "pygments_lexer": "ipython3",
   "version": "3.10.12"
  }
 },
 "nbformat": 4,
 "nbformat_minor": 2
}
